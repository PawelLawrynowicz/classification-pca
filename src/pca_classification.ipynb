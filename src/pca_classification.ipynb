{
 "cells": [
  {
   "cell_type": "code",
   "execution_count": 51,
   "metadata": {},
   "outputs": [],
   "source": [
    "import pandas as pd\n",
    "\n",
    "from utilities import one_hot"
   ]
  },
  {
   "cell_type": "code",
   "execution_count": 58,
   "metadata": {},
   "outputs": [],
   "source": [
    "\"\"\"\n",
    "Breast dataset\n",
    "\"\"\"\n",
    "def init_breast():\n",
    "       breast_dataset = pd.DataFrame(pd.read_csv(\"../raw_data/breast_cancer.csv\"))\n",
    "       breast_labels = breast_dataset.pop('diagnosis')\n",
    "       breast_dataset.drop(columns=(['id', 'Unnamed: 32']), inplace=True)\n",
    "       breast_dataset.insert(len(breast_dataset.columns), 'diagnosis', breast_labels)"
   ]
  },
  {
   "cell_type": "code",
   "execution_count": 59,
   "metadata": {},
   "outputs": [],
   "source": [
    "\"\"\"\n",
    "Human resources dataset\n",
    "\"\"\"\n",
    "def init_hr():\n",
    "    hr_dataset = pd.read_csv(\"../raw_data/human_resources.csv\")\n",
    "    hr_labels = hr_dataset.pop('left')\n",
    "    hr_dataset.rename(columns={'sales':'department'}, inplace=True)\n",
    "\n",
    "    hr_dataset = one_hot(hr_dataset, 'salary')\n",
    "    hr_dataset = one_hot(hr_dataset, 'department')\n",
    "    hr_dataset.insert(len(hr_dataset.columns), 'left', hr_labels)"
   ]
  },
  {
   "cell_type": "code",
   "execution_count": 56,
   "metadata": {},
   "outputs": [],
   "source": [
    "\"\"\"\n",
    "Spam base dataset\n",
    "\"\"\"\n",
    "def init_spam():\n",
    "    spam_features = ['word_freq_make','word_freq_address','word_freq_all','word_freq_3d','word_freq_our','word_freq_over','word_freq_remove','word_freq_internet','word_freq_order','word_freq_mail','word_freq_receive','word_freq_will','word_freq_people','word_freq_report','word_freq_addresses','word_freq_free','word_freq_business','word_freq_email','word_freq_you','word_freq_credit','word_freq_your','word_freq_font','word_freq_000','word_freq_money','word_freq_hp','word_freq_hpl','word_freq_george','word_freq_650','word_freq_lab','word_freq_labs','word_freq_telnet','word_freq_857','word_freq_data','word_freq_415','word_freq_85','word_freq_technology','word_freq_1999','word_freq_parts','word_freq_pm','word_freq_direct','word_freq_cs','word_freq_meeting','word_freq_original','word_freq_project','word_freq_re','word_freq_edu','word_freq_table','word_freq_conference','char_freq_;','char_freq_(','char_freq_[','char_freq_!','char_freq_$','char_freq_#','capital_run_length_average','capital_run_length_longest','capital_run_length_total','label']\n",
    "    spam_dataset = pd.read_csv(\"../raw_data/spambase.csv\", header=None)\n",
    "    spam_dataset.columns=spam_features"
   ]
  },
  {
   "cell_type": "code",
   "execution_count": 98,
   "metadata": {},
   "outputs": [],
   "source": [
    "\"\"\"\n",
    "Sonar dataset\n",
    "\"\"\"\n",
    "def init_sonar():\n",
    "    sonar_dataset = pd.read_csv(\"../raw_data/sonar.csv\", names = range(0,61))\n",
    "    sonar_dataset.rename(columns={60:'label'}, inplace=True)\n",
    "    sonar_dataset['label'].replace(0, 'R',inplace=True)\n",
    "    sonar_dataset['label'].replace(1, 'M',inplace=True)\n",
    "    return sonar_dataset"
   ]
  },
  {
   "cell_type": "code",
   "execution_count": 99,
   "metadata": {},
   "outputs": [],
   "source": [
    "\"\"\"\n",
    "Smoking dataset\n",
    "\"\"\"\n",
    "def init_smoking():\n",
    "    smoking_dataset = pd.read_csv(\"../raw_data/smoking.csv\")\n",
    "    smoking_dataset = smoking_dataset.drop(['ID'], axis=1)"
   ]
  },
  {
   "cell_type": "markdown",
   "metadata": {},
   "source": []
  }
 ],
 "metadata": {
  "interpreter": {
   "hash": "aef6fb368d08100f9d7b15bad364ce470f5a9bbd66747021b4a94ada662bad21"
  },
  "kernelspec": {
   "display_name": "Python 3.9.2 64-bit",
   "language": "python",
   "name": "python3"
  },
  "language_info": {
   "codemirror_mode": {
    "name": "ipython",
    "version": 3
   },
   "file_extension": ".py",
   "mimetype": "text/x-python",
   "name": "python",
   "nbconvert_exporter": "python",
   "pygments_lexer": "ipython3",
   "version": "3.9.2"
  },
  "orig_nbformat": 4
 },
 "nbformat": 4,
 "nbformat_minor": 2
}
